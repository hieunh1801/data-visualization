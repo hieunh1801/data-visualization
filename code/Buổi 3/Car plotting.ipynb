{
 "cells": [
  {
   "cell_type": "code",
   "execution_count": 19,
   "metadata": {},
   "outputs": [
    {
     "name": "stdout",
     "output_type": "stream",
     "text": [
      "   Unnamed: 0 Manufacturer    Model     Type  Min.Price  Price  Max.Price  \\\n",
      "0           1        Acura  Integra    Small       12.9   15.9       18.8   \n",
      "1           2        Acura   Legend  Midsize       29.2   33.9       38.7   \n",
      "2           3         Audi       90  Compact       25.9   29.1       32.3   \n",
      "3           4         Audi      100  Midsize       30.8   37.7       44.6   \n",
      "4           5          BMW     535i  Midsize       23.7   30.0       36.2   \n",
      "\n",
      "   MPG.city  MPG.highway             AirBags  ... Passengers Length  \\\n",
      "0        25           31                None  ...          5    177   \n",
      "1        18           25  Driver & Passenger  ...          5    195   \n",
      "2        20           26         Driver only  ...          5    180   \n",
      "3        19           26  Driver & Passenger  ...          6    193   \n",
      "4        22           30         Driver only  ...          4    186   \n",
      "\n",
      "   Wheelbase  Width  Turn.circle  Rear.seat.room Luggage.room  Weight  \\\n",
      "0        102     68           37            26.5         11.0    2705   \n",
      "1        115     71           38            30.0         15.0    3560   \n",
      "2        102     67           37            28.0         14.0    3375   \n",
      "3        106     70           37            31.0         17.0    3405   \n",
      "4        109     69           39            27.0         13.0    3640   \n",
      "\n",
      "    Origin           Make  \n",
      "0  non-USA  Acura Integra  \n",
      "1  non-USA   Acura Legend  \n",
      "2  non-USA        Audi 90  \n",
      "3  non-USA       Audi 100  \n",
      "4  non-USA       BMW 535i  \n",
      "\n",
      "[5 rows x 28 columns]\n"
     ]
    },
    {
     "data": {
      "text/plain": [
       "<matplotlib.collections.PathCollection at 0x1bc016f0>"
      ]
     },
     "execution_count": 19,
     "metadata": {},
     "output_type": "execute_result"
    },
    {
     "data": {
      "image/png": "[encoded data removed]",
      "text/plain": [
       "<Figure size 432x288 with 1 Axes>"
      ]
     },
     "metadata": {
      "needs_background": "light"
     },
     "output_type": "display_data"
    }
   ],
   "source": [
    "%matplotlib inline\n",
    "import pandas as pd\n",
    "from pandas import ExcelWriter\n",
    "from pandas import ExcelFile\n",
    "import seaborn as sns\n",
    "import matplotlib.pyplot as plt\n",
    "# Step 1: Read File\n",
    "df = pd.read_csv('datasets/Cars93.csv')\n",
    "# print(df.head())\n",
    "df_data = df[['Manufacturer', 'Model']]\n",
    "# plt.scatter(x=df['Min.Price'], y=df['Price'])"
   ]
  },
  {
   "cell_type": "code",
   "execution_count": null,
   "metadata": {},
   "outputs": [],
   "source": []
  }
 ],
 "metadata": {
  "kernelspec": {
   "display_name": "Python 3",
   "language": "python",
   "name": "python3"
  },
  "language_info": {
   "codemirror_mode": {
    "name": "ipython",
    "version": 3
   },
   "file_extension": ".py",
   "mimetype": "text/x-python",
   "name": "python",
   "nbconvert_exporter": "python",
   "pygments_lexer": "ipython3",
   "version": "3.7.3"
  }
 },
 "nbformat": 4,
 "nbformat_minor": 4
}
