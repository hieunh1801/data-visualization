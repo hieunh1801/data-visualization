{
 "cells": [
  {
   "cell_type": "code",
   "execution_count": 8,
   "metadata": {},
   "outputs": [
    {
     "name": "stdout",
     "output_type": "stream",
     "text": [
      "['Unnamed: 0', 'Manufacturer', 'Model', 'Type', 'Min.Price', 'Price', 'Max.Price', 'MPG.city', 'MPG.highway', 'AirBags', 'DriveTrain', 'Cylinders', 'EngineSize', 'Horsepower', 'RPM', 'Rev.per.mile', 'Man.trans.avail', 'Fuel.tank.capacity', 'Passengers', 'Length', 'Wheelbase', 'Width', 'Turn.circle', 'Rear.seat.room', 'Luggage.room', 'Weight', 'Origin', 'Make']\n",
      "    Min.Price  Price  Max.Price  MPG.city          Model\n",
      "0        12.9   15.9       18.8        25        Integra\n",
      "1        29.2   33.9       38.7        18         Legend\n",
      "2        25.9   29.1       32.3        20             90\n",
      "3        30.8   37.7       44.6        19            100\n",
      "4        23.7   30.0       36.2        22           535i\n",
      "5        14.2   15.7       17.3        22        Century\n",
      "6        19.9   20.8       21.7        19        LeSabre\n",
      "7        22.6   23.7       24.9        16     Roadmaster\n",
      "8        26.3   26.3       26.3        19        Riviera\n",
      "9        33.0   34.7       36.3        16        DeVille\n",
      "10       37.5   40.1       42.7        16        Seville\n",
      "11        8.5   13.4       18.3        25       Cavalier\n",
      "12       11.4   11.4       11.4        25        Corsica\n",
      "13       13.4   15.1       16.8        19         Camaro\n",
      "14       13.4   15.9       18.4        21         Lumina\n",
      "15       14.7   16.3       18.0        18     Lumina_APV\n",
      "16       14.7   16.6       18.6        15          Astro\n",
      "17       18.0   18.8       19.6        17        Caprice\n",
      "18       34.6   38.0       41.5        17       Corvette\n",
      "19       18.4   18.4       18.4        20       Concorde\n",
      "20       14.5   15.8       17.1        23        LeBaron\n",
      "21       29.5   29.5       29.5        20       Imperial\n",
      "22        7.9    9.2       10.6        29           Colt\n",
      "23        8.4   11.3       14.2        23         Shadow\n",
      "24       11.9   13.3       14.7        22         Spirit\n",
      "25       13.6   19.0       24.4        17        Caravan\n",
      "26       14.8   15.6       16.4        21        Dynasty\n",
      "27       18.5   25.8       33.1        18        Stealth\n",
      "28        7.9   12.2       16.5        29         Summit\n",
      "29       17.5   19.3       21.2        20         Vision\n",
      "..        ...    ...        ...       ...            ...\n",
      "63        8.7   11.8       14.9        29         Sentra\n",
      "64       13.0   15.7       18.3        24         Altima\n",
      "65       16.7   19.1       21.5        17          Quest\n",
      "66       21.0   21.5       22.0        21         Maxima\n",
      "67       13.0   13.5       14.0        24        Achieva\n",
      "68       14.2   16.3       18.4        23  Cutlass_Ciera\n",
      "69       19.5   19.5       19.5        18     Silhouette\n",
      "70       19.5   20.7       21.9        19   Eighty-Eight\n",
      "71       11.4   14.4       17.4        23          Laser\n",
      "72        8.2    9.0        9.9        31         LeMans\n",
      "73        9.4   11.1       12.8        23        Sunbird\n",
      "74       14.0   17.7       21.4        19       Firebird\n",
      "75       15.4   18.5       21.6        19     Grand_Prix\n",
      "76       19.4   24.4       29.4        19     Bonneville\n",
      "77       20.3   28.7       37.1        20            900\n",
      "78        9.2   11.1       12.9        28             SL\n",
      "79        7.3    8.4        9.5        33          Justy\n",
      "80       10.5   10.9       11.3        25         Loyale\n",
      "81       16.3   19.5       22.7        23         Legacy\n",
      "82        7.3    8.6       10.0        39          Swift\n",
      "83        7.8    9.8       11.8        32         Tercel\n",
      "84       14.2   18.4       22.6        25         Celica\n",
      "85       15.2   18.2       21.2        22          Camry\n",
      "86       18.9   22.7       26.6        18         Previa\n",
      "87        8.7    9.1        9.5        25            Fox\n",
      "88       16.6   19.7       22.7        17        Eurovan\n",
      "89       17.6   20.0       22.4        21         Passat\n",
      "90       22.9   23.3       23.7        18        Corrado\n",
      "91       21.8   22.7       23.5        21            240\n",
      "92       24.8   26.7       28.5        20            850\n",
      "\n",
      "[93 rows x 5 columns]\n"
     ]
    },
    {
     "data": {
      "text/plain": [
       "<matplotlib.axes._subplots.AxesSubplot at 0x137f710>"
      ]
     },
     "execution_count": 8,
     "metadata": {},
     "output_type": "execute_result"
    },
    {
     "data": {
      "image/png": "[encoded data removed]",
      "text/plain": [
       "<Figure size 432x288 with 1 Axes>"
      ]
     },
     "metadata": {
      "needs_background": "light"
     },
     "output_type": "display_data"
    }
   ],
   "source": [
    "%matplotlib inline\n",
    "import pandas as pd\n",
    "from pandas import ExcelWriter\n",
    "from pandas import ExcelFile\n",
    "import seaborn as sns\n",
    "import matplotlib.pyplot as plt\n",
    "# Step 1: Read File\n",
    "df = pd.read_csv('datasets/Cars93.csv')\n",
    "print(list(df.columns.values))\n",
    "df_data = df[['Min.Price', 'Price', 'Max.Price', 'MPG.city', 'Model']]\n",
    "print(df_data)\n",
    "sns.scatterplot(df_data['Min.Price'], df['Price'], df['MPG.city'])"
   ]
  },
  {
   "cell_type": "code",
   "execution_count": null,
   "metadata": {},
   "outputs": [],
   "source": []
  }
 ],
 "metadata": {
  "kernelspec": {
   "display_name": "Python 3",
   "language": "python",
   "name": "python3"
  },
  "language_info": {
   "codemirror_mode": {
    "name": "ipython",
    "version": 3
   },
   "file_extension": ".py",
   "mimetype": "text/x-python",
   "name": "python",
   "nbconvert_exporter": "python",
   "pygments_lexer": "ipython3",
   "version": "3.7.3"
  }
 },
 "nbformat": 4,
 "nbformat_minor": 4
}
